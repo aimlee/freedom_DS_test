{
 "cells": [
  {
   "cell_type": "markdown",
   "id": "594faf5a",
   "metadata": {},
   "source": [
    "### 1) Мужчина едет утром из дома на работу со скоростью 40км/ч, а вечером с работы домой по тому же маршруту со скоростью 60км/ч. Какова средняя скорость за все время пути?"
   ]
  },
  {
   "cell_type": "markdown",
   "id": "f87f9363",
   "metadata": {},
   "source": [
    "D) 48 km/h \n",
    "\n",
    "$$ V_{avg} = \\frac{2V_aV_b}{V_a+V_b} = \\frac{4800}{100}=48$$"
   ]
  },
  {
   "cell_type": "markdown",
   "id": "554136d5",
   "metadata": {},
   "source": [
    "### 2) На столе стоит стопка книг. Двадцатая по счету сверху книга лежит прямо под шестнадцатой по счету снизу. Сколько всего книг в стопке?\n",
    "\n"
   ]
  },
  {
   "cell_type": "markdown",
   "id": "f4b2fbce",
   "metadata": {},
   "source": [
    "C)34\n",
    "\n",
    "1...20...\n",
    "\n",
    "...16....1\n",
    "\n",
    "if 20th from top is 15th from bottom, we add another 14 books to 20 from top, in total answer is 34"
   ]
  },
  {
   "cell_type": "markdown",
   "id": "63fc7b80",
   "metadata": {},
   "source": [
    "### 3) На сколько процентов 150 больше, чем 30?\n"
   ]
  },
  {
   "cell_type": "markdown",
   "id": "44fd9d63",
   "metadata": {},
   "source": [
    "D) 400%\n",
    "\n",
    "$$30+x=150$$\n",
    "$$x = 120$$\n",
    "\n",
    "\n",
    "### if: \n",
    "$$30-100\\%$$\n",
    "### then:\n",
    "$$120-?$$\n",
    "$$? = 400\\%$$"
   ]
  },
  {
   "cell_type": "markdown",
   "id": "20512823",
   "metadata": {},
   "source": [
    "### 4) В комнате 10 мужчин, каждый здоровается с каждым. Сколько всего рукопожатий будет?\n"
   ]
  },
  {
   "cell_type": "markdown",
   "id": "397b7803",
   "metadata": {},
   "source": [
    "B) 45\n",
    "$$C^{10}_2 = \\frac{10*9}{2} = 45$$"
   ]
  },
  {
   "cell_type": "markdown",
   "id": "5cfef732",
   "metadata": {},
   "source": [
    "### 5) В начале года, у товара была цена А. В конце января, цена была увеличена на 60%. В конце февраля, новая цена была снижена на 60%. В конце марта, новая цена была увеличена на 60%. В конце апреля, новая цена была снижена на 60%. Какой процент цена на 1 мая составляла от цены А? "
   ]
  },
  {
   "cell_type": "markdown",
   "id": "4ff04c96",
   "metadata": {},
   "source": [
    "A) 41%\n",
    "\n",
    "Beginning of the year: A\n",
    "\n",
    "End of Jan: 1.6A\n",
    "\n",
    "End of Feb: 0.4*1.6A = 0.64A\n",
    "\n",
    "End of March: 1.6*0,64A = 1.024A\n",
    "\n",
    "End of April: 1.024A*0.4 = 0.4096A"
   ]
  },
  {
   "cell_type": "markdown",
   "id": "fb400831",
   "metadata": {},
   "source": [
    "### 6) 100 человек участвуют в конференции. 45 из них писатели и более 38 — редакторы. Из всех участников конференции, Х — одновременно являются и писателями, и редакторами, и 2Х — ни теми, ни другими. Какое максимальное возможное число участников являются и писателями, и редакторами?\n"
   ]
  },
  {
   "cell_type": "markdown",
   "id": "5f4d0693",
   "metadata": {},
   "source": [
    "B)16\n",
    "\n",
    "$$ X+(45-X)+(38-X)+2X = 100 $$\n",
    "$$ X = 17 $$\n",
    "\n",
    "However, in the task, it says more than 38 should be Editors, which means we can decrease the number of X by 1, to get the maximum number of X, which is 16."
   ]
  },
  {
   "cell_type": "markdown",
   "id": "77d04f46",
   "metadata": {},
   "source": [
    "### 7)  Сто одинаковых кубиков собраны в четыре куба: одинарный кубик, куб 2 х 2 х 2, куб 3 х 3 х 3, и куб 4 х 4 х 4. Эти четыре составных куба не соприкасаются друг с другом. Все внешние стороны этих кубов окрашены, а внутренние — нет. Эти 4 куба будут разобраны и составлены на плоскости в фигуру 10 х 10 кубиков. Верх и края новой фигуры должны быть окрашены, но нижнюю сторону красить не нужно. Сколько граней отдельных кубиков придётся закрасить, чтобы соответствовать требованиям нового дизайна?"
   ]
  },
  {
   "cell_type": "markdown",
   "id": "94f4c154",
   "metadata": {},
   "source": [
    "С) 9\n",
    "\n",
    "In 1x1x1 all painted, in 2x2x2 all painted, in 3x3x3 1 not painted, in 4x4x4 8 not painted, now, even if we put them on the surface, in the middle, we would need to paint the top surface of the cube, all 9 surfaces."
   ]
  },
  {
   "cell_type": "markdown",
   "id": "882530ba",
   "metadata": {},
   "source": [
    "### 8) На продажу выставлено 500 лотов — двухдверные и четырёхдверные машины. 165 из них — двухдверные. У 120 четырёхдверных машин есть камера заднего вида. Стандартная трансмиссия есть у восемнадцати процентов машин с камерой заднего вида. Если 40% от всех машин, имеющих и камеру заднего вида и стандартную трансмиссию — двухдверные, сколько четырёхдверных машин имеют и камеру заднего вида и стандартную трансмиссию?"
   ]
  },
  {
   "cell_type": "markdown",
   "id": "57f24910",
   "metadata": {},
   "source": [
    "B) 27\n",
    "#### Given\n",
    "165 - 2 doors car\n",
    "\n",
    "335 - 4 doors car\n",
    "\n",
    "120 - 4 doors & camera\n",
    "\n",
    "x - 2 doors & camera\n",
    "\n",
    "A = x+120 - total camera\n",
    "\n",
    "B = 0.18A - standard transmission & camera\n",
    "\n",
    "$D_2$ - 0.4B - standard transmission & camera & 2 doors\n",
    "\n",
    "? - $D_4$ - standard transmission & camera & 4 doors\n",
    "\n",
    "$D_2, D_4 \\in Z$  \n",
    "\n",
    "#### Solution\n",
    "since $D_2 \\le x$\n",
    "\n",
    "$ D_2 = 0.4*(0.18*(x+120)) = 0.072(120+x)$\n",
    "\n",
    "from this equation, the integer solution of x are 5 and 130, if $x=5$, then $D_2 = 9$, then the it doesnot satisfy requirements $D_2 > x$, $x \\not= 5$\n",
    "\n",
    "lets check x=130, $D_2 = 18$, it satisfies $D_2 \\le x$,  then the answer is $0.6*0.18*250=27$"
   ]
  },
  {
   "cell_type": "markdown",
   "id": "2a5cca11",
   "metadata": {},
   "source": [
    "### 9) ● —  обозначает число, полученное при округлении n до ближайшей десятой. На пример ●3.21=3.2 Тогда ●0.087 - ●1.124 ="
   ]
  },
  {
   "cell_type": "markdown",
   "id": "204ad96b",
   "metadata": {},
   "source": [
    "D) -1.0\n",
    "\n",
    "0.1-1.1 = -1.0"
   ]
  },
  {
   "cell_type": "markdown",
   "id": "fd4c391f",
   "metadata": {},
   "source": [
    "### 10) Ɫ любого числа определяется как сумма квадрата числа и удвоенного числа. Чему будет равно Ɫ14?\n"
   ]
  },
  {
   "cell_type": "markdown",
   "id": "c9c569c7",
   "metadata": {},
   "source": [
    "B) 224\n",
    "\n",
    "$14*14+2*14= 224$"
   ]
  },
  {
   "cell_type": "markdown",
   "id": "821cf97f",
   "metadata": {},
   "source": [
    "### 11) В определённой популяции только 0,03 процента людей имеют физическую особенность Х. Сколько в среднем нужно обследовать людей, чтобы выявить шестерых с физической особенность Х?\n"
   ]
  },
  {
   "cell_type": "markdown",
   "id": "f3ab346b",
   "metadata": {},
   "source": [
    "E) 20 000\n",
    "\n",
    "6 of them is 6/0.03% = 6/0.0003 = 20000 (Bernoulli process)"
   ]
  },
  {
   "cell_type": "markdown",
   "id": "a2564c9a",
   "metadata": {},
   "source": [
    "### 12) СТО может красить три машины каждые четыре часа. Сколько часов понадобится СТО, чтобы покрасить пять машин?"
   ]
  },
  {
   "cell_type": "markdown",
   "id": "b4a8a34d",
   "metadata": {},
   "source": [
    "B) $6\\frac{2}{3} $\n",
    "\n",
    "if \n",
    "\n",
    "3-4\n",
    "\n",
    "5-?\n",
    "\n",
    "$\\frac{5}{3/4} = 6\\frac{2}{3} $"
   ]
  },
  {
   "cell_type": "markdown",
   "id": "181b42b6",
   "metadata": {},
   "source": [
    "### 13) В комнате 7 человек. У 4 человек в комнате ровно 1 родственник, а у 3 человек - ровно 2 родственника. Если случайным образом выбрать двух человек из этой комнаты, какова вероятность того, что эти два человека НЕ ​​являются родственниками?"
   ]
  },
  {
   "cell_type": "markdown",
   "id": "661cda81",
   "metadata": {},
   "source": [
    "E) 16\n",
    "\n",
    "if we think the relation as a graph, then, 4 vertex has 1 degree, 3 vertex has 2 degree, in total 4+6=10  vertex degree in graph.\n",
    "\n",
    "in a undirected graph, sum of degree = 2xnumber of edges, thus, number of edges =5.\n",
    "\n",
    "In total we hav 21 way of connecting two people, but in the graph, we have 5 edges, 21-5=16, the probability is 16/21"
   ]
  },
  {
   "cell_type": "markdown",
   "id": "b584f766",
   "metadata": {},
   "source": [
    "### 14) Если x — положительное число, что из следующего может быть правильным порядком для 1/х, 2x, и х^2?\n",
    "I. х^2<2x <1/х\n",
    "II. х^2<1/х <2x\n",
    "III. 2x <х^2<1/х\n",
    "\n",
    "\n"
   ]
  },
  {
   "cell_type": "markdown",
   "id": "bd085f4a",
   "metadata": {},
   "source": [
    "D) I и II"
   ]
  },
  {
   "cell_type": "markdown",
   "id": "f861c2ee",
   "metadata": {},
   "source": [
    "### 15) Рейтинг фильмов на сайте рассчитывается по формуле: ср оценка кинокритиков*ср оценка пользователей. Как расположатся фильмы А, Б и В?"
   ]
  },
  {
   "cell_type": "markdown",
   "id": "5f779040",
   "metadata": {},
   "source": [
    "A) А<В<Б\n",
    "\n",
    "\n",
    "A: 4.9 × 0.55 = 2.695\n",
    "\n",
    "Б: 3.9 × 0.98 = 3.822\n",
    "\n",
    "В: 4.7 × 0.71 = 3.337"
   ]
  },
  {
   "cell_type": "markdown",
   "id": "340f4246",
   "metadata": {},
   "source": [
    "### 16) Если x/|x|<x, что из следующего должно быть верным для х?\n"
   ]
  },
  {
   "cell_type": "markdown",
   "id": "ce8851ae",
   "metadata": {},
   "source": [
    "From above, only E) |x|^2>1 satisfies the requirement. "
   ]
  }
 ],
 "metadata": {
  "language_info": {
   "name": "python"
  }
 },
 "nbformat": 4,
 "nbformat_minor": 5
}
